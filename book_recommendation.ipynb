{
  "cells": [
    {
      "cell_type": "code",
      "execution_count": null,
      "metadata": {
        "colab": {
          "base_uri": "https://localhost:8080/",
          "height": 611
        },
        "id": "ffdb0b89",
        "outputId": "02b7af9c-64df-4c5b-ebdc-7765218adea9"
      },
      "outputs": [
        {
          "output_type": "stream",
          "name": "stdout",
          "text": [
            "Colab notebook detected. To show errors in colab notebook, set debug=True in launch()\n",
            "* Running on public URL: https://ec17d9d83103d18422.gradio.live\n",
            "\n",
            "This share link expires in 1 week. For free permanent hosting and GPU upgrades, run `gradio deploy` from the terminal in the working directory to deploy to Hugging Face Spaces (https://huggingface.co/spaces)\n"
          ]
        },
        {
          "output_type": "display_data",
          "data": {
            "text/plain": [
              "<IPython.core.display.HTML object>"
            ],
            "text/html": [
              "<div><iframe src=\"https://ec17d9d83103d18422.gradio.live\" width=\"100%\" height=\"500\" allow=\"autoplay; camera; microphone; clipboard-read; clipboard-write;\" frameborder=\"0\" allowfullscreen></iframe></div>"
            ]
          },
          "metadata": {}
        },
        {
          "output_type": "execute_result",
          "data": {
            "text/plain": []
          },
          "metadata": {},
          "execution_count": 4
        }
      ],
      "source": [
        "# 📦 Step 1: Install dependencies\n",
        "!pip install gradio pandas requests --quiet\n",
        "\n",
        "# 📁 Step 2: Import libraries\n",
        "import gradio as gr\n",
        "import requests\n",
        "import pandas as pd\n",
        "\n",
        "# 📚 Step 3: Book recommendation logic\n",
        "def recommend_books(title_like, genre_filter, language_filter, year_filter):\n",
        "    query = f\"{title_like}\"\n",
        "    if genre_filter and genre_filter != \"None\":\n",
        "        query += f\"+subject:{genre_filter}\"\n",
        "    if language_filter:\n",
        "        query += f\"&langRestrict={language_filter}\"\n",
        "\n",
        "    url = f\"https://www.googleapis.com/books/v1/volumes?q={query}&maxResults=10\"\n",
        "    response = requests.get(url)\n",
        "    books = response.json().get(\"items\", [])\n",
        "\n",
        "    if not books:\n",
        "        return \"❌ No books found. Try changing filters or book title.\"\n",
        "\n",
        "    results = []\n",
        "    for book in books:\n",
        "        info = book.get(\"volumeInfo\", {})\n",
        "        title = info.get(\"title\", \"Unknown Title\")\n",
        "        authors = \", \".join(info.get(\"authors\", [\"Unknown Author\"]))\n",
        "        published = info.get(\"publishedDate\", \"Unknown\")\n",
        "        description = info.get(\"description\", \"No description available.\")[:200] + \"...\"\n",
        "        thumbnail = info.get(\"imageLinks\", {}).get(\"thumbnail\", \"\")\n",
        "\n",
        "        # Year filter check\n",
        "        if year_filter and not published.startswith(year_filter):\n",
        "            continue\n",
        "\n",
        "        results.append({\n",
        "            \"Title\": title,\n",
        "            \"Authors\": authors,\n",
        "            \"Published\": published,\n",
        "            \"Description\": description,\n",
        "            \"Image\": thumbnail\n",
        "        })\n",
        "\n",
        "    if not results:\n",
        "        return \"❌ No books matched the filters.\"\n",
        "\n",
        "    # Convert to Markdown + images\n",
        "    output = \"\"\n",
        "    for book in results:\n",
        "        output += f\"![Book Cover]({book['Image']})\\n\" if book['Image'] else \"\"\n",
        "        output += f\"📖 **{book['Title']}**\\n👤 *{book['Authors']}*\\n📅 {book['Published']}\\n📝 {book['Description']}\\n\\n\"\n",
        "\n",
        "    return output\n",
        "\n",
        "# 🎨 Step 4: Gradio UI\n",
        "with gr.Blocks() as demo:\n",
        "    gr.Markdown(\"# 📚 Book Recommendation System\")\n",
        "    gr.Markdown(\"Get book suggestions based on your favorites with filters!\")\n",
        "\n",
        "    with gr.Row():\n",
        "        title_input = gr.Textbox(label=\"Book you liked (e.g., Harry Potter)\")\n",
        "        genre_input = gr.Dropdown(\n",
        "            choices=[\"None\", \"Fantasy\", \"Thriller\", \"Romance\", \"Science\", \"Fiction\", \"Non-Fiction\", \"History\", \"Mystery\"],\n",
        "            label=\"Genre (Optional)\",\n",
        "            value=\"None\"\n",
        "        )\n",
        "\n",
        "    with gr.Row():\n",
        "        lang_input = gr.Dropdown(choices=[\"en\", \"hi\", \"fr\", \"es\", \"de\"], label=\"Language (Optional)\", value=None)\n",
        "        year_input = gr.Textbox(label=\"Filter Year (e.g., 2007)\", placeholder=\"Optional\")\n",
        "\n",
        "    btn = gr.Button(\"🔍 Recommend\")\n",
        "\n",
        "    output_text = gr.Markdown()\n",
        "\n",
        "    btn.click(\n",
        "        recommend_books,\n",
        "        inputs=[title_input, genre_input, lang_input, year_input],\n",
        "        outputs=output_text\n",
        "    )\n",
        "\n",
        "demo.launch(share=True)\n"
      ]
    }
  ],
  "metadata": {
    "colab": {
      "provenance": []
    },
    "kernelspec": {
      "display_name": "Python 3",
      "name": "python3"
    },
    "language_info": {
      "name": "python"
    }
  },
  "nbformat": 4,
  "nbformat_minor": 0
}