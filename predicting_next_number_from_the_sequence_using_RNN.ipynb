{
  "cells": [
    {
      "cell_type": "code",
      "execution_count": null,
      "metadata": {
        "id": "tF01KOLQVRDS"
      },
      "outputs": [],
      "source": [
        "import numpy as np\n",
        "from tensorflow.keras.models import Sequential\n",
        "from tensorflow.keras.layers import SimpleRNN,Dense\n",
        "import matplotlib.pyplot as plt"
      ]
    },
    {
      "cell_type": "code",
      "source": [
        "sequence=np.array([i for i in range(1,1001)])\n",
        "window_size=3\n",
        "X=[]\n",
        "y=[]"
      ],
      "metadata": {
        "id": "pJtmPY4s9Rni"
      },
      "execution_count": null,
      "outputs": []
    },
    {
      "cell_type": "code",
      "source": [
        "for i in range(len(sequence)-window_size):\n",
        "  X.append(sequence[i:i+window_size])\n",
        "  y.append(sequence[i+window_size])\n",
        "\n",
        "X=np.array(X)\n",
        "y=np.array(y)\n",
        "X=X.reshape(X.shape[0],X.shape[1],1)"
      ],
      "metadata": {
        "id": "f719Rrae9u_T"
      },
      "execution_count": null,
      "outputs": []
    },
    {
      "cell_type": "code",
      "source": [
        "model=Sequential()\n",
        "model.add(SimpleRNN(50,activation='relu', input_shape=(window_size,1)))\n",
        "model.add(Dense(1))\n",
        "model.compile(optimizer='adam',loss='mse')"
      ],
      "metadata": {
        "id": "ZX0vH4E6_EkH"
      },
      "execution_count": null,
      "outputs": []
    },
    {
      "cell_type": "code",
      "source": [
        "model.fit(X,y,epochs=500, verbose=0)\n",
        "print(\"Training completed\")"
      ],
      "metadata": {
        "colab": {
          "base_uri": "https://localhost:8080/"
        },
        "id": "EObvRqEd_cO6",
        "outputId": "ff87fa30-9ff7-4b87-9b65-f903fbd0b260"
      },
      "execution_count": null,
      "outputs": [
        {
          "output_type": "stream",
          "name": "stdout",
          "text": [
            "Training completed\n"
          ]
        }
      ]
    },
    {
      "cell_type": "code",
      "source": [
        "test_input = np.array([115, 116, 117])\n",
        "test_input = test_input.reshape((1, window_size, 1))\n",
        "predicted = model.predict(test_input, verbose=0)\n",
        "print(predicted)"
      ],
      "metadata": {
        "colab": {
          "base_uri": "https://localhost:8080/"
        },
        "id": "PJKnjBoV_qV6",
        "outputId": "e3d936da-ea4f-42fa-e8c3-08f387e9e525"
      },
      "execution_count": null,
      "outputs": [
        {
          "output_type": "stream",
          "name": "stdout",
          "text": [
            "[[118.037926]]\n"
          ]
        }
      ]
    },
    {
      "cell_type": "code",
      "source": [
        "predictions = model.predict(X)\n",
        "plt.plot(y,label='True Values')\n",
        "plt.plot(predictions, label='predicted')\n",
        "plt.legend()\n",
        "plt.title('True Values vs Predicted Values')\n",
        "plt.show()\n"
      ],
      "metadata": {
        "colab": {
          "base_uri": "https://localhost:8080/",
          "height": 469
        },
        "id": "QugOqQcMAd3s",
        "outputId": "5236d499-2f55-4440-aadf-f8d979e04edd"
      },
      "execution_count": null,
      "outputs": [
        {
          "output_type": "stream",
          "name": "stdout",
          "text": [
            "\u001b[1m32/32\u001b[0m \u001b[32m━━━━━━━━━━━━━━━━━━━━\u001b[0m\u001b[37m\u001b[0m \u001b[1m0s\u001b[0m 6ms/step\n"
          ]
        },
        {
          "output_type": "display_data",
          "data": {
            "text/plain": [
              "<Figure size 640x480 with 1 Axes>"
            ],
            "image/png": "[encoded data removed]"
          },
          "metadata": {}
        }
      ]
    },
    {
      "cell_type": "code",
      "source": [
        "import pickle\n",
        "with open('model.pkl', 'wb') as file:\n",
        "    pickle.dump(model, file)"
      ],
      "metadata": {
        "id": "fl_hxadEISpx"
      },
      "execution_count": null,
      "outputs": []
    },
    {
      "cell_type": "code",
      "source": [
        "with open('/content/model.pkl', 'rb') as f:\n",
        "    loaded_model =pickle.load(f)\n"
      ],
      "metadata": {
        "id": "M-mAb2_eKasK"
      },
      "execution_count": null,
      "outputs": []
    },
    {
      "cell_type": "code",
      "source": [
        "my_input = np.array([11, 12, 13])\n",
        "\n",
        "# Reshape the input to match the model's expected input shape\n",
        "my_input = my_input.reshape((1, window_size, 1))\n",
        "\n",
        "# Get the prediction from the loaded model\n",
        "my_prediction = loaded_model.predict(my_input)\n",
        "\n",
        "# Print the prediction\n",
        "print(f\"Input: {my_input.flatten()}\")\n",
        "print(f\"Predicted output: {my_prediction[0][0]}\")"
      ],
      "metadata": {
        "colab": {
          "base_uri": "https://localhost:8080/"
        },
        "id": "WNEKzlqcJ98-",
        "outputId": "fb6f852d-9439-4b30-8286-a3cade1bc8a3"
      },
      "execution_count": null,
      "outputs": [
        {
          "output_type": "stream",
          "name": "stdout",
          "text": [
            "\u001b[1m1/1\u001b[0m \u001b[32m━━━━━━━━━━━━━━━━━━━━\u001b[0m\u001b[37m\u001b[0m \u001b[1m0s\u001b[0m 248ms/step\n",
            "Input: [11 12 13]\n",
            "Predicted output: 13.95848560333252\n"
          ]
        }
      ]
    },
    {
      "cell_type": "code",
      "source": [
        "import numpy as np\n",
        "import gradio as gr\n",
        "from tensorflow.keras.models import Sequential\n",
        "from tensorflow.keras.layers import SimpleRNN, Dense\n",
        "\n",
        "# Data preparation\n",
        "sequence = np.array([i for i in range(1, 1001)])\n",
        "window_size = 3\n",
        "X, y = [], []\n",
        "\n",
        "for i in range(len(sequence) - window_size):\n",
        "    X.append(sequence[i:i + window_size])\n",
        "    y.append(sequence[i + window_size])\n",
        "\n",
        "X = np.array(X)\n",
        "y = np.array(y)\n",
        "X = X.reshape(X.shape[0], X.shape[1], 1)\n",
        "\n",
        "# Model building and training\n",
        "model = Sequential()\n",
        "model.add(SimpleRNN(50, activation='relu', input_shape=(window_size, 1)))\n",
        "model.add(Dense(1))\n",
        "model.compile(optimizer='adam', loss='mse')\n",
        "model.fit(X, y, epochs=500, verbose=0)\n",
        "\n",
        "# Prediction function for Gradio\n",
        "def predict_next_number(n1, n2, n3):\n",
        "    input_seq = np.array([n1, n2, n3]).reshape((1, window_size, 1))\n",
        "    prediction = model.predict(input_seq, verbose=0)\n",
        "    return float(prediction[0][0])\n",
        "\n",
        "# Gradio Interface\n",
        "inputs = [gr.Number(label=f\"Number {i+1}\") for i in range(window_size)]\n",
        "output = gr.Number(label=\"Predicted Next Number\")\n",
        "\n",
        "gr.Interface(fn=predict_next_number, inputs=inputs, outputs=output, title=\"RNN Sequence Predictor\").launch()\n"
      ],
      "metadata": {
        "colab": {
          "base_uri": "https://localhost:8080/",
          "height": 680
        },
        "id": "iuf1is4wciZj",
        "outputId": "0c686994-003a-4ad1-cf5c-5892203999da"
      },
      "execution_count": null,
      "outputs": [
        {
          "output_type": "stream",
          "name": "stderr",
          "text": [
            "/usr/local/lib/python3.11/dist-packages/keras/src/layers/rnn/rnn.py:200: UserWarning: Do not pass an `input_shape`/`input_dim` argument to a layer. When using Sequential models, prefer using an `Input(shape)` object as the first layer in the model instead.\n",
            "  super().__init__(**kwargs)\n"
          ]
        },
        {
          "output_type": "stream",
          "name": "stdout",
          "text": [
            "It looks like you are running Gradio on a hosted a Jupyter notebook. For the Gradio app to work, sharing must be enabled. Automatically setting `share=True` (you can turn this off by setting `share=False` in `launch()` explicitly).\n",
            "\n",
            "Colab notebook detected. To show errors in colab notebook, set debug=True in launch()\n",
            "* Running on public URL: https://470b2a2013f87d1543.gradio.live\n",
            "\n",
            "This share link expires in 1 week. For free permanent hosting and GPU upgrades, run `gradio deploy` from the terminal in the working directory to deploy to Hugging Face Spaces (https://huggingface.co/spaces)\n"
          ]
        },
        {
          "output_type": "display_data",
          "data": {
            "text/plain": [
              "<IPython.core.display.HTML object>"
            ],
            "text/html": [
              "<div><iframe src=\"https://470b2a2013f87d1543.gradio.live\" width=\"100%\" height=\"500\" allow=\"autoplay; camera; microphone; clipboard-read; clipboard-write;\" frameborder=\"0\" allowfullscreen></iframe></div>"
            ]
          },
          "metadata": {}
        },
        {
          "output_type": "execute_result",
          "data": {
            "text/plain": []
          },
          "metadata": {},
          "execution_count": 1
        }
      ]
    }
  ],
  "metadata": {
    "accelerator": "GPU",
    "colab": {
      "gpuType": "T4",
      "provenance": []
    },
    "kernelspec": {
      "display_name": "Python 3",
      "name": "python3"
    },
    "language_info": {
      "name": "python"
    }
  },
  "nbformat": 4,
  "nbformat_minor": 0
}